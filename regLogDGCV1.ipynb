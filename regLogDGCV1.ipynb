{
 "cells": [
  {
   "cell_type": "markdown",
   "metadata": {},
   "source": [
    "# I.<u> Régression Logistique </u>\n",
    "\n",
    "\n",
    "La régression logistique est l'un des algorithmes d'apprentissages supérvisés, les plus simples, les plus utilisées pour la classification à deux classes.\n",
    "\n",
    "La régression logistique est la référence de tout problème de classification binaire.\n",
    "\n",
    "Sa base d'apprentissage : $X$ = {($x_1,y_1$), ($x_2,y_2$),...,($x_n,y_n$)}     \n",
    "\n",
    "Avec \n",
    " * $x_i$ est un vecteur objet réel de p attributs.\n",
    " * $y_i$ sortie binaire {0,1}\n",
    " \n",
    "      \n",
    " ### Principe : \n",
    "  \n",
    "La régression logistigue consiste à estimer la probabilité de succès c-à-d la probabilité conditionnelle d'avoir $y_i = 1$ sachant $x_i$, en utilisant la fonction de sigmoid : $p(y_i = 1 /x_i) = \\frac{1}{1+exp(- w* x_i)}$\n",
    "  \n",
    "Avec $w = w_0, w_1,....,w_p$ : l'inconnue , se sont les poids à apprendre à partir des données de la base d'apprentissage.\n",
    "  \n",
    "  ### La Forme générale de la probabilité conditionnelle\n",
    "  \n",
    "  $$p(y_i/x_i,w) = (\\frac{1}{1+exp(- w* x_i)})^{y_i} * (1- \\frac{1}{1+exp(- w* x_i)})^{(1-y_i)}$$\n",
    "  \n",
    "  c'est la loi de **Bernoulli**\n",
    "  \n",
    "   \n",
    "   ###  Critère à minimiser \n",
    "   \n",
    "   La plupart des algorithmes d'apprentissages possèdent des critères à optimiser pour atteindre la sotrie désirée.\n",
    "   Dans la régression logistique c'est l'accross_entropie  qui est définie par : \n",
    "   $J(w) = -log(V(w))$ = $\\sum_{i = 1}^{n}e_i$\n",
    "   \n",
    "   Avec      :  $$V(w)= \\prod_{i = 1}^{n}p(y_i / x_i ;w)$$ quelque soit i.\n",
    "   \n",
    "   et $$ei = -y_i * log(\\frac{1}{1+exp(- w* x_i)}) - (1-y_i)* log(1- \\frac{1}{1+exp(- w* x_i)})$$\n",
    "   \n",
    "   ###   Règle d'apprentissage \n",
    "   \n",
    "   La règle d'apprentissage est s'écrit d'une manière générale par : \n",
    "   $$w_j(t) = w_j(t-1) - \\alpha * \\frac {\\partial J(w)}{\\partial w_j}$$\n",
    "   \n",
    "   Après calcul du $\\frac {\\partial J(w)}{\\partial w_j}$ on obtient : $$\\sum_{i=1}^{n}(\\frac{1}{1+exp(- w* x_i)}-y_i)*x_ij$$ quelque soit j.\n",
    "   \n",
    "   D'où $$w_j(t) = w_j(t-1) - \\alpha * \\sum_{i=1}^{n}(\\frac{1}{1+exp(- w* x_i)}-y_i)*x_ij$$ quelque soit j.\n",
    "   \n",
    "   $\\alpha$ : le pas d'apprentissage.\n",
    "   \n",
    "   \n",
    "   \n",
    "   \n",
    "  \n",
    "  \n",
    "\n",
    "\n",
    "\n"
   ]
  },
  {
   "cell_type": "markdown",
   "metadata": {},
   "source": [
    "# II. <u>Implémentation de la RegLog </u>"
   ]
  },
  {
   "cell_type": "markdown",
   "metadata": {},
   "source": [
    "###### Partie déclarative:"
   ]
  },
  {
   "cell_type": "code",
   "execution_count": 2,
   "metadata": {},
   "outputs": [],
   "source": [
    "import numpy as np\n",
    "import matplotlib.pyplot as plt\n",
    "import siam as sm\n",
    "from sklearn.model_selection import train_test_split\n"
   ]
  },
  {
   "cell_type": "markdown",
   "metadata": {},
   "source": [
    "######   Lecture des données :"
   ]
  },
  {
   "cell_type": "code",
   "execution_count": 3,
   "metadata": {},
   "outputs": [],
   "source": [
    "dataSet = \"../data/x1.txt\"\n",
    "with open(dataSet,\"r\") as f:\n",
    "    n = int(f.readline())\n",
    "    p = int(f.readline())\n",
    "X = np.loadtxt(dataSet,skiprows=2,usecols=range(p))\n",
    "y = np.loadtxt(dataSet,skiprows=2,usecols=p)\n",
    "y = y.reshape(y.shape[0],1) #vecteur de sortie y\n",
    "bias = np.ones((X.shape[0],1))\n",
    "x = np.concatenate((bias,X),axis=1) #Matrice x"
   ]
  },
  {
   "cell_type": "markdown",
   "metadata": {},
   "source": [
    "###### Séparation des données"
   ]
  },
  {
   "cell_type": "code",
   "execution_count": 4,
   "metadata": {},
   "outputs": [],
   "source": [
    "x1, x2, y1, y2 = train_test_split(x, y, test_size=0.3)"
   ]
  },
  {
   "cell_type": "markdown",
   "metadata": {},
   "source": [
    "###### Initialisation des poids"
   ]
  },
  {
   "cell_type": "code",
   "execution_count": 5,
   "metadata": {},
   "outputs": [
    {
     "name": "stdout",
     "output_type": "stream",
     "text": [
      "les poids initiaux :  [[ 1.65372077]\n",
      " [-2.27921986]\n",
      " [-0.59256285]]\n",
      "cout initial:  [[125.22048505]]\n"
     ]
    }
   ],
   "source": [
    "t,tmax = 0,30000\n",
    "alpha,eps = 0.001,0.00001\n",
    "#np.random.seed(0)            # pour générer les memes nombres\n",
    "w = np.random.randn(p+1,1)\n",
    "pi1 = 1/(1 + np.exp(- x1 @ w))\n",
    "print(\"les poids initiaux : \",w)\n",
    "print('cout initial: ',sm.fcout(y1,pi1))"
   ]
  },
  {
   "cell_type": "markdown",
   "metadata": {},
   "source": [
    "###### Boucle d'apprentissage"
   ]
  },
  {
   "cell_type": "code",
   "execution_count": 6,
   "metadata": {},
   "outputs": [
    {
     "name": "stdout",
     "output_type": "stream",
     "text": [
      "les poids finaux :  [[-10.20551023]\n",
      " [  5.87322208]\n",
      " [ -2.66109562]]\n",
      "cout final:  [[0.8776106]]\n"
     ]
    }
   ],
   "source": [
    "while (t < tmax ): #and diff(oldw,w) > eps):\n",
    "    t += 1\n",
    "    pi1 = 1/(1 + np.exp(- x1 @ w)) # A@B :(produit scalaire entre A B)\n",
    "    delta = x1.T @ (pi1 - y1)  # DGC\n",
    "    w = w - (alpha * delta)\n",
    "print(\"les poids finaux : \",w)   \n",
    "print('cout final: ',sm.fcout(y1,pi1))"
   ]
  },
  {
   "cell_type": "code",
   "execution_count": 18,
   "metadata": {
    "scrolled": true
   },
   "outputs": [
    {
     "data": {
      "text/plain": [
       "Text(0, 0.5, 'X2')"
      ]
     },
     "execution_count": 18,
     "metadata": {},
     "output_type": "execute_result"
    },
    {
     "data": {
      "image/png": "[encoded data removed]",
      "text/plain": [
       "<Figure size 432x288 with 1 Axes>"
      ]
     },
     "metadata": {
      "needs_background": "light"
     },
     "output_type": "display_data"
    }
   ],
   "source": [
    "X1 = X[:,0]\n",
    "X2 = X[:,1]\n",
    "plt.scatter(X1,X2,s=100,c=y[:,0],edgecolors='k')\n",
    "xx = [-(w[0] + w[1]*X1[i])/w[2] for i in range(40)]\n",
    "plt.plot(X1,xx,c='r')\n",
    "plt.axis([1,5,0,4])\n",
    "plt.xlabel(\"X1\")\n",
    "plt.ylabel(\"X2\")"
   ]
  },
  {
   "cell_type": "markdown",
   "metadata": {},
   "source": [
    "###### Généralisation"
   ]
  },
  {
   "cell_type": "code",
   "execution_count": 19,
   "metadata": {},
   "outputs": [
    {
     "name": "stdout",
     "output_type": "stream",
     "text": [
      "score de la base d'apprentissage: 100.0 %\n",
      "score de la base de test: 100.0 %\n"
     ]
    }
   ],
   "source": [
    "yhat1=pi1>=0.5\n",
    "s = sm.score(y1,yhat1)\n",
    "print(\"score de la base d'apprentissage:\",s,'%')\n",
    "pi2 = 1/(1 + np.exp(- x2 @ w))\n",
    "yhat2=pi2>=0.5\n",
    "s = sm.score(y2,yhat2)\n",
    "print('score de la base de test:',s,'%')"
   ]
  },
  {
   "cell_type": "markdown",
   "metadata": {},
   "source": [
    "\n"
   ]
  }
 ],
 "metadata": {
  "kernelspec": {
   "display_name": "Python 3",
   "language": "python",
   "name": "python3"
  },
  "language_info": {
   "codemirror_mode": {
    "name": "ipython",
    "version": 3
   },
   "file_extension": ".py",
   "mimetype": "text/x-python",
   "name": "python",
   "nbconvert_exporter": "python",
   "pygments_lexer": "ipython3",
   "version": "3.7.3"
  }
 },
 "nbformat": 4,
 "nbformat_minor": 2
}
